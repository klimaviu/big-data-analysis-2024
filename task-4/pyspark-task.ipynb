{
 "cells": [
  {
   "cell_type": "code",
   "execution_count": 3,
   "metadata": {},
   "outputs": [],
   "source": [
    "app_name = \"getLongestDistance\""
   ]
  },
  {
   "cell_type": "code",
   "execution_count": 4,
   "metadata": {},
   "outputs": [],
   "source": [
    "import findspark\n",
    "findspark.init()\n",
    "\n",
    "import pyspark.sql.functions as f\n",
    "from pyspark.sql import SparkSession\n",
    "from pyspark.sql.types import DoubleType\n",
    "from pyspark.sql.window import Window\n",
    "import math\n",
    "import pandas as pd\n",
    "import seaborn as sns\n",
    "import seaborn.objects as so\n",
    "from utils import clean_names, haversine, haversine_udf"
   ]
  },
  {
   "cell_type": "code",
   "execution_count": 5,
   "metadata": {},
   "outputs": [],
   "source": [
    "spark = SparkSession.builder\\\n",
    "      .master(\"local[4]\")\\\n",
    "      .appName(app_name)\\\n",
    "      .config(\"spark.driver.memory\", \"4g\")\\\n",
    "      .getOrCreate() "
   ]
  },
  {
   "cell_type": "markdown",
   "metadata": {},
   "source": [
    "### Load the data into a PySpark DataFrame"
   ]
  },
  {
   "cell_type": "code",
   "execution_count": 6,
   "metadata": {},
   "outputs": [],
   "source": [
    "df = spark.read.option(\"header\", \"true\").csv(\"aisdk-2024-05-04.csv\")\n",
    "\n",
    "#cleaning all column names and dropping duplicates in case there were several entries from different sources\n",
    "df = clean_names(df).dropDuplicates(subset = [\"mmsi\", \"latitude\", \"longitude\", \"timestamp\"])"
   ]
  },
  {
   "cell_type": "code",
   "execution_count": 7,
   "metadata": {},
   "outputs": [
    {
     "name": "stdout",
     "output_type": "stream",
     "text": [
      "+-------------------+--------------+---------+---------+---------+----------------------+----+-----+-----+-------+-------+--------+----+---------+----------+-----+------+------------------------------+-------+-----------------+----+----------------+---+---+---+---+\n",
      "|timestamp          |type_of_mobile|mmsi     |latitude |longitude|navigational_status   |rot |sog  |cog  |heading|imo    |callsign|name|ship_type|cargo_type|width|length|type_of_position_fixing_device|draught|destination      |eta |data_source_type|a  |b  |c  |d  |\n",
      "+-------------------+--------------+---------+---------+---------+----------------------+----+-----+-----+-------+-------+--------+----+---------+----------+-----+------+------------------------------+-------+-----------------+----+----------------+---+---+---+---+\n",
      "|04/05/2024 08:55:49|Class A       |111219508|55.219082|9.290598 |Under way using engine|NULL|0.9  |333.4|NULL   |Unknown|0       |NULL|SAR      |NULL      |5    |20    |GPS                           |NULL   |SEARCH AND RESCUE|NULL|AIS             |1  |19 |2  |3  |\n",
      "|04/05/2024 08:55:23|Class A       |111219508|55.219162|9.290818 |Under way using engine|NULL|5.3  |243.4|NULL   |Unknown|0       |NULL|SAR      |NULL      |5    |20    |GPS                           |NULL   |SEARCH AND RESCUE|NULL|AIS             |1  |19 |2  |3  |\n",
      "|04/05/2024 08:54:05|Class A       |111219508|55.219190|9.301780 |Under way using engine|NULL|67.7 |144.0|NULL   |Unknown|0       |NULL|SAR      |NULL      |5    |20    |GPS                           |NULL   |SEARCH AND RESCUE|NULL|AIS             |1  |19 |2  |3  |\n",
      "|04/05/2024 08:53:25|Class A       |111219508|55.229752|9.318290 |Under way using engine|NULL|96.7 |227.6|NULL   |Unknown|0       |NULL|SAR      |NULL      |5    |20    |GPS                           |NULL   |SEARCH AND RESCUE|NULL|AIS             |1  |19 |2  |3  |\n",
      "|04/05/2024 09:49:42|Class A       |111219508|55.233973|9.313863 |Under way using engine|NULL|102.2|53.3 |NULL   |Unknown|0       |NULL|SAR      |NULL      |5    |20    |GPS                           |NULL   |SEARCH AND RESCUE|NULL|AIS             |1  |19 |2  |3  |\n",
      "+-------------------+--------------+---------+---------+---------+----------------------+----+-----+-----+-------+-------+--------+----+---------+----------+-----+------+------------------------------+-------+-----------------+----+----------------+---+---+---+---+\n",
      "only showing top 5 rows\n",
      "\n"
     ]
    }
   ],
   "source": [
    "df.show(5, False)"
   ]
  },
  {
   "cell_type": "code",
   "execution_count": 8,
   "metadata": {},
   "outputs": [],
   "source": [
    "vessel_info = df\\\n",
    "    .filter((f.col(\"ship_type\") != \"Undefined\"))\\\n",
    "    .select(\"mmsi\", \"ship_type\")\\\n",
    "    .dropDuplicates()"
   ]
  },
  {
   "cell_type": "markdown",
   "metadata": {},
   "source": [
    "### Ensure that the data types for latitude, longitude, and timestamp are appropriate for calculations and sorting\n",
    "\n",
    "By checking the dtypes, we can note that initially, all of these fields are in string format."
   ]
  },
  {
   "cell_type": "code",
   "execution_count": 9,
   "metadata": {},
   "outputs": [
    {
     "data": {
      "text/plain": [
       "[('timestamp', 'string'),\n",
       " ('type_of_mobile', 'string'),\n",
       " ('mmsi', 'string'),\n",
       " ('latitude', 'string'),\n",
       " ('longitude', 'string'),\n",
       " ('navigational_status', 'string'),\n",
       " ('rot', 'string'),\n",
       " ('sog', 'string'),\n",
       " ('cog', 'string'),\n",
       " ('heading', 'string'),\n",
       " ('imo', 'string'),\n",
       " ('callsign', 'string'),\n",
       " ('name', 'string'),\n",
       " ('ship_type', 'string'),\n",
       " ('cargo_type', 'string'),\n",
       " ('width', 'string'),\n",
       " ('length', 'string'),\n",
       " ('type_of_position_fixing_device', 'string'),\n",
       " ('draught', 'string'),\n",
       " ('destination', 'string'),\n",
       " ('eta', 'string'),\n",
       " ('data_source_type', 'string'),\n",
       " ('a', 'string'),\n",
       " ('b', 'string'),\n",
       " ('c', 'string'),\n",
       " ('d', 'string')]"
      ]
     },
     "execution_count": 9,
     "metadata": {},
     "output_type": "execute_result"
    }
   ],
   "source": [
    "df.dtypes"
   ]
  },
  {
   "cell_type": "markdown",
   "metadata": {},
   "source": [
    "Therefore, we need to update these fields to the correct formats:"
   ]
  },
  {
   "cell_type": "code",
   "execution_count": 37,
   "metadata": {},
   "outputs": [],
   "source": [
    "df_cleaned = df\\\n",
    "    .withColumn(\"latitude\", f.col(\"latitude\").cast(\"float\"))\\\n",
    "    .withColumn(\"longitude\", f.col(\"longitude\").cast(\"float\"))\\\n",
    "    .withColumn(\"timestamp\", f.to_timestamp(f.col(\"timestamp\"), format=\"dd/MM/yyyy HH:mm:ss\"))"
   ]
  },
  {
   "cell_type": "code",
   "execution_count": 11,
   "metadata": {},
   "outputs": [
    {
     "name": "stdout",
     "output_type": "stream",
     "text": [
      "+-------------------+--------------+---------+---------+---------+----------------------+----+-----+-----+-------+-------+--------+----+---------+----------+-----+------+------------------------------+-------+-----------------+----+----------------+---+---+---+---+\n",
      "|timestamp          |type_of_mobile|mmsi     |latitude |longitude|navigational_status   |rot |sog  |cog  |heading|imo    |callsign|name|ship_type|cargo_type|width|length|type_of_position_fixing_device|draught|destination      |eta |data_source_type|a  |b  |c  |d  |\n",
      "+-------------------+--------------+---------+---------+---------+----------------------+----+-----+-----+-------+-------+--------+----+---------+----------+-----+------+------------------------------+-------+-----------------+----+----------------+---+---+---+---+\n",
      "|2024-05-04 08:55:49|Class A       |111219508|55.21908 |9.290598 |Under way using engine|NULL|0.9  |333.4|NULL   |Unknown|0       |NULL|SAR      |NULL      |5    |20    |GPS                           |NULL   |SEARCH AND RESCUE|NULL|AIS             |1  |19 |2  |3  |\n",
      "|2024-05-04 08:55:23|Class A       |111219508|55.219162|9.290818 |Under way using engine|NULL|5.3  |243.4|NULL   |Unknown|0       |NULL|SAR      |NULL      |5    |20    |GPS                           |NULL   |SEARCH AND RESCUE|NULL|AIS             |1  |19 |2  |3  |\n",
      "|2024-05-04 08:54:05|Class A       |111219508|55.21919 |9.30178  |Under way using engine|NULL|67.7 |144.0|NULL   |Unknown|0       |NULL|SAR      |NULL      |5    |20    |GPS                           |NULL   |SEARCH AND RESCUE|NULL|AIS             |1  |19 |2  |3  |\n",
      "|2024-05-04 08:53:25|Class A       |111219508|55.22975 |9.31829  |Under way using engine|NULL|96.7 |227.6|NULL   |Unknown|0       |NULL|SAR      |NULL      |5    |20    |GPS                           |NULL   |SEARCH AND RESCUE|NULL|AIS             |1  |19 |2  |3  |\n",
      "|2024-05-04 09:49:42|Class A       |111219508|55.233974|9.313863 |Under way using engine|NULL|102.2|53.3 |NULL   |Unknown|0       |NULL|SAR      |NULL      |5    |20    |GPS                           |NULL   |SEARCH AND RESCUE|NULL|AIS             |1  |19 |2  |3  |\n",
      "+-------------------+--------------+---------+---------+---------+----------------------+----+-----+-----+-------+-------+--------+----+---------+----------+-----+------+------------------------------+-------+-----------------+----+----------------+---+---+---+---+\n",
      "only showing top 5 rows\n",
      "\n"
     ]
    }
   ],
   "source": [
    "df_cleaned.show(5, False)"
   ]
  },
  {
   "cell_type": "markdown",
   "metadata": {},
   "source": [
    "## Calculate difference from last position\n",
    "\n",
    "In order to calculate the difference from the last position, we use a window function to get the previous coordinates for that vessel for every entry, and then apply the [Haversine formula](https://www.movable-type.co.uk/scripts/latlong.html) to get the distance."
   ]
  },
  {
   "cell_type": "markdown",
   "metadata": {},
   "source": [
    "To validate if the function works as expected, we can pass a set of coordinates and assert if the result matches what is expected:"
   ]
  },
  {
   "cell_type": "code",
   "execution_count": 12,
   "metadata": {},
   "outputs": [],
   "source": [
    "lat1 = 52.2296756\n",
    "lon1 = 21.0122287\n",
    "lat2 = 52.406374\n",
    "lon2 = 16.9251681\n",
    "\n",
    "assert round(haversine(lon1, lat1, lon2, lat2), 3) == 278.458"
   ]
  },
  {
   "cell_type": "markdown",
   "metadata": {},
   "source": [
    "We then apply a window function to get the previous coordinates for every vessel, and apply the Harvesine function:"
   ]
  },
  {
   "cell_type": "code",
   "execution_count": 42,
   "metadata": {},
   "outputs": [],
   "source": [
    "windowSpec = Window.partitionBy(\"mmsi\").orderBy(\"timestamp\")\n",
    "\n",
    "df_cleaned = df_cleaned\\\n",
    "    .withColumn(\"prev_timestamp\", f.lag(\"timestamp\").over(windowSpec))\\\n",
    "    .withColumn(\"prev_latitude\", f.lag(\"latitude\").over(windowSpec))\\\n",
    "    .withColumn(\"prev_longitude\", f.lag(\"longitude\").over(windowSpec))\\\n",
    "    .filter(f.col(\"prev_latitude\").isNotNull() & f.col(\"prev_longitude\").isNotNull())\\\n",
    "    .withColumn(\"distance\", haversine_udf(\"longitude\", \"latitude\", \"prev_longitude\", \"prev_latitude\"))\\\n",
    "    .withColumn(\"hours_since_last_timestamp\", (f.unix_timestamp(\"timestamp\") - f.unix_timestamp(\"prev_timestamp\").cast(\"long\"))/3600)\\\n",
    "    .withColumn(\"speed_km_h\", f.col(\"distance\")/f.col(\"hours_since_last_timestamp\"))\\\n",
    "    .cache()"
   ]
  },
  {
   "cell_type": "code",
   "execution_count": 46,
   "metadata": {},
   "outputs": [
    {
     "name": "stdout",
     "output_type": "stream",
     "text": [
      "+-------------------+--------------+---------+---------+---------+-------------------+----+---+----+-------+-------+--------+----+---------+----------+-----+------+------------------------------+-------+-----------+----+----------------+----+----+----+----+-------------+--------------+--------------------+-------------------+--------------------------+--------------------+\n",
      "|timestamp          |type_of_mobile|mmsi     |latitude |longitude|navigational_status|rot |sog|cog |heading|imo    |callsign|name|ship_type|cargo_type|width|length|type_of_position_fixing_device|draught|destination|eta |data_source_type|a   |b   |c   |d   |prev_latitude|prev_longitude|distance            |prev_timestamp     |hours_since_last_timestamp|speed_km_h          |\n",
      "+-------------------+--------------+---------+---------+---------+-------------------+----+---+----+-------+-------+--------+----+---------+----------+-----+------+------------------------------+-------+-----------+----+----------------+----+----+----+----+-------------+--------------+--------------------+-------------------+--------------------------+--------------------+\n",
      "|2024-05-04 08:08:54|Class B       |211214920|54.66637 |9.938165 |Unknown value      |NULL|0.0|NULL|NULL   |Unknown|DG4767  |ONO |Sailing  |NULL      |NULL |NULL  |Undefined                     |NULL   |Unknown    |NULL|AIS             |NULL|NULL|NULL|NULL|54.66637     |9.938165      |0.0                 |2024-05-04 08:07:58|0.015555555555555555      |0.0                 |\n",
      "|2024-05-04 08:09:21|Class B       |211214920|54.666367|9.938158 |Unknown value      |NULL|0.0|NULL|NULL   |Unknown|DG4767  |ONO |Sailing  |NULL      |NULL |NULL  |Undefined                     |NULL   |Unknown    |NULL|AIS             |NULL|NULL|NULL|NULL|54.66637     |9.938165      |6.035108499597637E-4|2024-05-04 08:08:54|0.0075                    |0.08046811332796851 |\n",
      "|2024-05-04 08:12:20|Class B       |211214920|54.666367|9.938172 |Unknown value      |NULL|0.0|NULL|NULL   |Unknown|DG4767  |ONO |Sailing  |NULL      |NULL |NULL  |Undefined                     |NULL   |Unknown    |NULL|AIS             |NULL|NULL|NULL|NULL|54.666367    |9.938158      |9.199347039908331E-4|2024-05-04 08:09:21|0.04972222222222222       |0.018501480080262565|\n",
      "|2024-05-04 08:13:58|Class B       |211214920|54.666367|9.938172 |Unknown value      |NULL|0.0|NULL|NULL   |Unknown|DG4767  |ONO |Sailing  |NULL      |NULL |NULL  |Undefined                     |NULL   |Unknown    |NULL|AIS             |NULL|NULL|NULL|NULL|54.666367    |9.938172      |0.0                 |2024-05-04 08:12:20|0.02722222222222222       |0.0                 |\n",
      "|2024-05-04 08:14:54|Class B       |211214920|54.666367|9.938172 |Unknown value      |NULL|0.0|NULL|NULL   |Unknown|DG4767  |ONO |Sailing  |NULL      |NULL |NULL  |Undefined                     |NULL   |Unknown    |NULL|AIS             |NULL|NULL|NULL|NULL|54.666367    |9.938172      |0.0                 |2024-05-04 08:13:58|0.015555555555555555      |0.0                 |\n",
      "+-------------------+--------------+---------+---------+---------+-------------------+----+---+----+-------+-------+--------+----+---------+----------+-----+------+------------------------------+-------+-----------+----+----------------+----+----+----+----+-------------+--------------+--------------------+-------------------+--------------------------+--------------------+\n",
      "only showing top 5 rows\n",
      "\n"
     ]
    }
   ],
   "source": [
    "df_cleaned.show(5, False)"
   ]
  },
  {
   "cell_type": "markdown",
   "metadata": {},
   "source": [
    "### Checking for outliers with overly high speed\n",
    "\n",
    "To check for any outliers, we take the maximum speed each vehicle had exhibited.\n",
    "\n",
    "We can note that the current world record for boat speed is [511 km/h](http://www.lesliefield.com/races/world_water_speed_record.htm), so speeds above that could be deemed suspicious. "
   ]
  },
  {
   "cell_type": "code",
   "execution_count": 54,
   "metadata": {},
   "outputs": [],
   "source": [
    "vehicle_speed = df_cleaned.groupBy(\"mmsi\").agg(f.max(\"speed_km_h\").alias(\"speed_km_h\")).select(\"speed_km_h\").toPandas()"
   ]
  },
  {
   "cell_type": "code",
   "execution_count": 66,
   "metadata": {},
   "outputs": [
    {
     "data": {
      "image/png": "[encoded data removed]",
      "text/plain": [
       "<seaborn._core.plot.Plot at 0x260593eb990>"
      ]
     },
     "execution_count": 66,
     "metadata": {
      "image/png": {
       "height": 378.25,
       "width": 509.15
      }
     },
     "output_type": "execute_result"
    }
   ],
   "source": [
    "so.Plot(vehicle_speed, \"speed_km_h\")\\\n",
    "    .add(so.Bar(), so.Hist(stat = \"percent\", bins = 10, binrange = (0, 2000)))\\\n",
    "    .label(title = \"Histogram of maximum speed per vehicle\")"
   ]
  },
  {
   "cell_type": "markdown",
   "metadata": {},
   "source": [
    "While even speeds above 511 km could be deeemed as suspicious, there are some speeds which exceed 10 million km per hour. These must be errors, and should be excluded from analysis."
   ]
  },
  {
   "cell_type": "code",
   "execution_count": 65,
   "metadata": {},
   "outputs": [
    {
     "data": {
      "text/html": [
       "<div>\n",
       "<style scoped>\n",
       "    .dataframe tbody tr th:only-of-type {\n",
       "        vertical-align: middle;\n",
       "    }\n",
       "\n",
       "    .dataframe tbody tr th {\n",
       "        vertical-align: top;\n",
       "    }\n",
       "\n",
       "    .dataframe thead th {\n",
       "        text-align: right;\n",
       "    }\n",
       "</style>\n",
       "<table border=\"1\" class=\"dataframe\">\n",
       "  <thead>\n",
       "    <tr style=\"text-align: right;\">\n",
       "      <th></th>\n",
       "      <th>speed_km_h</th>\n",
       "    </tr>\n",
       "  </thead>\n",
       "  <tbody>\n",
       "    <tr>\n",
       "      <th>4951</th>\n",
       "      <td>14367957.59</td>\n",
       "    </tr>\n",
       "    <tr>\n",
       "      <th>1286</th>\n",
       "      <td>14193107.43</td>\n",
       "    </tr>\n",
       "    <tr>\n",
       "      <th>4894</th>\n",
       "      <td>14024389.89</td>\n",
       "    </tr>\n",
       "    <tr>\n",
       "      <th>4836</th>\n",
       "      <td>13839252.97</td>\n",
       "    </tr>\n",
       "    <tr>\n",
       "      <th>1025</th>\n",
       "      <td>10835285.75</td>\n",
       "    </tr>\n",
       "    <tr>\n",
       "      <th>2118</th>\n",
       "      <td>8228178.15</td>\n",
       "    </tr>\n",
       "    <tr>\n",
       "      <th>3634</th>\n",
       "      <td>7368598.83</td>\n",
       "    </tr>\n",
       "    <tr>\n",
       "      <th>2706</th>\n",
       "      <td>7269942.34</td>\n",
       "    </tr>\n",
       "    <tr>\n",
       "      <th>5384</th>\n",
       "      <td>7195170.79</td>\n",
       "    </tr>\n",
       "    <tr>\n",
       "      <th>4675</th>\n",
       "      <td>7150336.34</td>\n",
       "    </tr>\n",
       "  </tbody>\n",
       "</table>\n",
       "</div>"
      ],
      "text/plain": [
       "      speed_km_h\n",
       "4951 14367957.59\n",
       "1286 14193107.43\n",
       "4894 14024389.89\n",
       "4836 13839252.97\n",
       "1025 10835285.75\n",
       "2118  8228178.15\n",
       "3634  7368598.83\n",
       "2706  7269942.34\n",
       "5384  7195170.79\n",
       "4675  7150336.34"
      ]
     },
     "execution_count": 65,
     "metadata": {},
     "output_type": "execute_result"
    }
   ],
   "source": [
    "pd.options.display.float_format = '{:.2f}'.format\n",
    "\n",
    "vehicle_speed.sort_values(by = \"speed_km_h\", ascending = False)[0:10]"
   ]
  },
  {
   "cell_type": "markdown",
   "metadata": {},
   "source": [
    "Over 10% of vehicles had speeds of 1000 km/h or larger. Still, let's select this as our \"sane threshold\", and exclude observations with larger speeds."
   ]
  },
  {
   "cell_type": "code",
   "execution_count": 78,
   "metadata": {},
   "outputs": [
    {
     "data": {
      "text/plain": [
       "0.10566247224278312"
      ]
     },
     "execution_count": 78,
     "metadata": {},
     "output_type": "execute_result"
    }
   ],
   "source": [
    "len(vehicle_speed[vehicle_speed[\"speed_km_h\"] >= 1000])/len(vehicle_speed)"
   ]
  },
  {
   "cell_type": "markdown",
   "metadata": {},
   "source": [
    "### Total distance travelled per day"
   ]
  },
  {
   "cell_type": "markdown",
   "metadata": {},
   "source": [
    "To get the total distance travelled per day, we group by the MMSI, sum to get the total distance, and then sort the dataframe in a descending order."
   ]
  },
  {
   "cell_type": "code",
   "execution_count": 83,
   "metadata": {},
   "outputs": [],
   "source": [
    "distance_per_day = df_cleaned\\\n",
    "    .filter(f.col(\"speed_km_h\") < 1000)\\\n",
    "    .groupBy(\"mmsi\")\\\n",
    "    .agg(\n",
    "        f.sum(\"distance\").alias(\"total_distance\")\n",
    "    )\\\n",
    "    .orderBy(f.col(\"total_distance\").desc())"
   ]
  },
  {
   "cell_type": "markdown",
   "metadata": {},
   "source": [
    "### Vessel with the longest distance"
   ]
  },
  {
   "cell_type": "markdown",
   "metadata": {},
   "source": [
    "Once the dataset has been sorted in a descending order based on the total distance travelled that day, we can find the vessel which has travelled the longest distance."
   ]
  },
  {
   "cell_type": "code",
   "execution_count": 84,
   "metadata": {},
   "outputs": [
    {
     "name": "stdout",
     "output_type": "stream",
     "text": [
      "+---------+------------------+\n",
      "|mmsi     |total_distance    |\n",
      "+---------+------------------+\n",
      "|211130000|4077.4400763628864|\n",
      "+---------+------------------+\n",
      "only showing top 1 row\n",
      "\n"
     ]
    }
   ],
   "source": [
    "distance_per_day.show(1, False)"
   ]
  },
  {
   "cell_type": "markdown",
   "metadata": {},
   "source": [
    "### Comparing the top 1 vessel with others"
   ]
  },
  {
   "cell_type": "code",
   "execution_count": 89,
   "metadata": {},
   "outputs": [],
   "source": [
    "top_vessels = distance_per_day\\\n",
    "    .limit(10)\\\n",
    "    .join(vessel_info, on = [\"mmsi\"], how = \"left\")\\\n",
    "    .toPandas()\\\n",
    "    .sort_values(by = \"total_distance\", ascending = False)\\\n",
    "    .reset_index(drop = True)"
   ]
  },
  {
   "cell_type": "markdown",
   "metadata": {},
   "source": [
    "We can observe that the top 1 vessel was a law enforcement ship. This is a believable outcome."
   ]
  },
  {
   "cell_type": "code",
   "execution_count": 90,
   "metadata": {},
   "outputs": [
    {
     "data": {
      "text/plain": [
       "mmsi                    211130000\n",
       "total_distance            4077.44\n",
       "ship_type         Law enforcement\n",
       "Name: 0, dtype: object"
      ]
     },
     "execution_count": 90,
     "metadata": {},
     "output_type": "execute_result"
    }
   ],
   "source": [
    "top_vessels.loc[0]"
   ]
  },
  {
   "cell_type": "markdown",
   "metadata": {},
   "source": [
    "However, most other vehicles which were in the top 10 by distance travelled were cargo ships:"
   ]
  },
  {
   "cell_type": "code",
   "execution_count": 91,
   "metadata": {},
   "outputs": [
    {
     "data": {
      "image/png": "[encoded data removed]",
      "text/plain": [
       "<seaborn._core.plot.Plot at 0x2605766d450>"
      ]
     },
     "execution_count": 91,
     "metadata": {
      "image/png": {
       "height": 378.25,
       "width": 509.15
      }
     },
     "output_type": "execute_result"
    }
   ],
   "source": [
    "so.Plot(top_vessels, y = \"ship_type\").add(so.Bar(), so.Count())"
   ]
  },
  {
   "cell_type": "code",
   "execution_count": 92,
   "metadata": {},
   "outputs": [
    {
     "name": "stdout",
     "output_type": "stream",
     "text": [
      "The first vessel travelled an almost 5 times larger distance than the second one.\n"
     ]
    }
   ],
   "source": [
    "first_vs_second_vessel = round(top_vessels[\"total_distance\"][0]/top_vessels[\"total_distance\"][1])\n",
    "\n",
    "print(f\"The first vessel travelled an almost {first_vs_second_vessel} times larger distance than the second one.\")"
   ]
  },
  {
   "cell_type": "markdown",
   "metadata": {},
   "source": [
    "### Sanity check"
   ]
  },
  {
   "cell_type": "markdown",
   "metadata": {},
   "source": [
    "It is quite suspicious that the number 1 vehicle had a 5 times longer distance than the number 2 vehicle in terms of distance travelled. Thus, let's look at the longest trips this vehicle took that day.\n",
    "\n",
    "We can note that the top vehicle was moored most of the time, apart from a single 12 hour trip with an average speed of 338.5 km / h. Looking at typical ship speeds, this is still an unusual outcome."
   ]
  },
  {
   "cell_type": "code",
   "execution_count": 94,
   "metadata": {},
   "outputs": [
    {
     "name": "stdout",
     "output_type": "stream",
     "text": [
      "+-------------------+--------------+---------+---------+---------+----------------------+----+---+-----+-------+-------+--------+------+---------------+----------+-----+------+------------------------------+-------+-----------+-------------------+----------------+---+---+---+---+-------------+--------------+---------------------+-------------------+--------------------------+--------------------+----------------+\n",
      "|timestamp          |type_of_mobile|mmsi     |latitude |longitude|navigational_status   |rot |sog|cog  |heading|imo    |callsign|name  |ship_type      |cargo_type|width|length|type_of_position_fixing_device|draught|destination|eta                |data_source_type|a  |b  |c  |d  |prev_latitude|prev_longitude|distance             |prev_timestamp     |hours_since_last_timestamp|speed_km_h          |distance_rounded|\n",
      "+-------------------+--------------+---------+---------+---------+----------------------+----+---+-----+-------+-------+--------+------+---------------+----------+-----+------+------------------------------+-------+-----------+-------------------+----------------+---+---+---+---+-------------+--------------+---------------------+-------------------+--------------------------+--------------------+----------------+\n",
      "|2024-05-04 15:15:47|Class A       |211130000|54.3061  |13.114217|Under way using engine|NULL|0.9|354.5|319    |9285811|DBBU    |ARKONA|Law enforcement|NULL      |14   |67    |GPS                           |4.1    |DE STL     |03/05/2024 12:30:00|AIS             |10 |57 |7  |7  |91.0         |0.0           |4077.343296369176    |2024-05-04 03:13:03|12.045555555555556        |338.49358608359546  |4077.0          |\n",
      "|2024-05-04 15:19:49|Class A       |211130000|54.306282|13.115217|Under way using engine|0.0 |0.2|38.5 |282    |9285811|DBBU    |ARKONA|Law enforcement|NULL      |14   |67    |GPS                           |4.1    |DE STL     |03/05/2024 12:30:00|AIS             |10 |57 |7  |7  |54.3061      |13.114217     |0.06802193819036792  |2024-05-04 15:15:47|0.06722222222222222       |1.011896601179027   |0.0             |\n",
      "|2024-05-04 15:21:49|Class A       |211130000|54.306316|13.115233|Under way using engine|0.0 |0.0|284.0|284    |9285811|DBBU    |ARKONA|Law enforcement|NULL      |14   |67    |GPS                           |4.1    |DE STL     |03/05/2024 12:30:00|AIS             |10 |57 |7  |7  |54.306282    |13.115217     |0.003959822085037586 |2024-05-04 15:19:49|0.03333333333333333       |0.1187946625511276  |0.0             |\n",
      "|2024-05-04 20:00:27|Class A       |211130000|54.306316|13.115233|Moored                |0.0 |0.0|284.0|284    |9285811|DBBU    |ARKONA|Law enforcement|NULL      |14   |69    |GPS                           |4.1    |DE STL     |05/05/2024 06:00:00|AIS             |11 |58 |7  |7  |54.30633     |13.115217     |0.001996272170791178 |2024-05-04 19:54:25|0.10055555555555555       |0.019852430427757573|0.0             |\n",
      "|2024-05-04 16:16:50|Class A       |211130000|54.30633 |13.115233|Moored                |0.0 |0.0|284.0|284    |9285811|DBBU    |ARKONA|Law enforcement|NULL      |14   |67    |GPS                           |4.1    |DE STL     |03/05/2024 12:30:00|AIS             |10 |57 |7  |7  |54.306316    |13.115233     |0.0016966999307853614|2024-05-04 15:57:42|0.3188888888888889        |0.005320661803856534|0.0             |\n",
      "|2024-05-04 20:12:33|Class A       |211130000|54.30633 |13.115233|Moored                |0.0 |0.0|284.0|284    |9285811|DBBU    |ARKONA|Law enforcement|NULL      |14   |69    |GPS                           |4.1    |DE STL     |05/05/2024 06:00:00|AIS             |11 |58 |7  |7  |54.306316    |13.115233     |0.0016966999307853614|2024-05-04 20:01:58|0.1763888888888889        |0.009619086221775276|0.0             |\n",
      "|2024-05-04 21:13:00|Class A       |211130000|54.306316|13.115217|Moored                |0.0 |0.0|284.0|284    |9285811|DBBU    |ARKONA|Law enforcement|NULL      |14   |69    |GPS                           |4.1    |DE STL     |05/05/2024 06:00:00|AIS             |11 |58 |7  |7  |54.30633     |13.115217     |0.0016966999307853614|2024-05-04 21:09:58|0.050555555555555555      |0.033561097532018136|0.0             |\n",
      "|2024-05-04 21:19:04|Class A       |211130000|54.30633 |13.115217|Moored                |0.0 |0.0|284.0|284    |9285811|DBBU    |ARKONA|Law enforcement|NULL      |14   |69    |GPS                           |4.1    |DE STL     |05/05/2024 06:00:00|AIS             |11 |58 |7  |7  |54.306316    |13.115217     |0.0016966999307853614|2024-05-04 21:14:07|0.0825                    |0.020566059767095288|0.0             |\n",
      "|2024-05-04 22:43:39|Class A       |211130000|54.306316|13.115217|Moored                |0.0 |0.0|284.0|284    |9285811|DBBU    |ARKONA|Law enforcement|NULL      |14   |69    |GPS                           |4.1    |DE STL     |05/05/2024 06:00:00|AIS             |11 |58 |7  |7  |54.30633     |13.115217     |0.0016966999307853614|2024-05-04 22:38:17|0.08944444444444444       |0.01896931599635808 |0.0             |\n",
      "|2024-05-04 23:28:59|Class A       |211130000|54.30633 |13.115233|Moored                |0.0 |0.0|284.0|284    |9285811|DBBU    |ARKONA|Law enforcement|NULL      |14   |69    |GPS                           |4.1    |DE STL     |05/05/2024 06:00:00|AIS             |11 |58 |7  |7  |54.306316    |13.115233     |0.0016966999307853614|2024-05-04 22:56:23|0.5433333333333333        |0.003122760608807414|0.0             |\n",
      "|2024-05-04 22:52:42|Class A       |211130000|54.306316|13.115233|Moored                |0.0 |0.0|284.0|284    |9285811|DBBU    |ARKONA|Law enforcement|NULL      |14   |69    |GPS                           |4.1    |DE STL     |05/05/2024 06:00:00|AIS             |11 |58 |7  |7  |54.306316    |13.115217     |0.001051813830895493 |2024-05-04 22:50:16|0.04055555555555555       |0.025935135556327225|0.0             |\n",
      "|2024-05-04 17:26:23|Class A       |211130000|54.30633 |13.115217|Moored                |0.0 |0.0|285.0|285    |9285811|DBBU    |ARKONA|Law enforcement|NULL      |14   |69    |GPS                           |4.1    |DE STL     |05/05/2024 06:00:00|AIS             |11 |58 |7  |7  |54.30633     |13.115233     |0.0010518134409835307|2024-05-04 17:19:41|0.11166666666666666       |0.009419224844628633|0.0             |\n",
      "|2024-05-04 18:54:01|Class A       |211130000|54.30633 |13.115233|Moored                |0.0 |0.0|284.0|284    |9285811|DBBU    |ARKONA|Law enforcement|NULL      |14   |69    |GPS                           |4.1    |DE STL     |05/05/2024 06:00:00|AIS             |11 |58 |7  |7  |54.30633     |13.115217     |0.0010518134409835307|2024-05-04 18:50:58|0.050833333333333335      |0.020691411953774375|0.0             |\n",
      "|2024-05-04 19:54:25|Class A       |211130000|54.30633 |13.115217|Moored                |0.0 |0.0|284.0|284    |9285811|DBBU    |ARKONA|Law enforcement|NULL      |14   |69    |GPS                           |4.1    |DE STL     |05/05/2024 06:00:00|AIS             |11 |58 |7  |7  |54.30633     |13.115233     |0.0010518134409835307|2024-05-04 19:27:17|0.45222222222222225       |0.002325877387924269|0.0             |\n",
      "|2024-05-04 20:39:45|Class A       |211130000|54.30633 |13.115217|Moored                |0.0 |0.0|284.0|284    |9285811|DBBU    |ARKONA|Law enforcement|NULL      |14   |69    |GPS                           |4.1    |DE STL     |05/05/2024 06:00:00|AIS             |11 |58 |7  |7  |54.30633     |13.115233     |0.0010518134409835307|2024-05-04 20:36:43|0.050555555555555555      |0.020805101030443463|0.0             |\n",
      "|2024-05-04 21:52:17|Class A       |211130000|54.30633 |13.115233|Moored                |0.0 |0.0|284.0|284    |9285811|DBBU    |ARKONA|Law enforcement|NULL      |14   |69    |GPS                           |4.1    |DE STL     |05/05/2024 06:00:00|AIS             |11 |58 |7  |7  |54.30633     |13.115217     |0.0010518134409835307|2024-05-04 21:50:10|0.035277777777777776      |0.029815184153863864|0.0             |\n",
      "|2024-05-04 22:10:24|Class A       |211130000|54.30633 |13.115217|Moored                |0.0 |0.0|284.0|284    |9285811|DBBU    |ARKONA|Law enforcement|NULL      |14   |69    |GPS                           |4.1    |DE STL     |05/05/2024 06:00:00|AIS             |11 |58 |7  |7  |54.30633     |13.115233     |0.0010518134409835307|2024-05-04 22:02:12|0.13666666666666666       |0.007696195909635591|0.0             |\n",
      "|2024-05-04 22:13:26|Class A       |211130000|54.30633 |13.115233|Moored                |0.0 |0.0|284.0|284    |9285811|DBBU    |ARKONA|Law enforcement|NULL      |14   |69    |GPS                           |4.1    |DE STL     |05/05/2024 06:00:00|AIS             |11 |58 |7  |7  |54.30633     |13.115217     |0.0010518134409835307|2024-05-04 22:10:24|0.050555555555555555      |0.020805101030443463|0.0             |\n",
      "|2024-05-04 22:16:27|Class A       |211130000|54.30633 |13.115217|Moored                |0.0 |0.0|284.0|284    |9285811|DBBU    |ARKONA|Law enforcement|NULL      |14   |69    |GPS                           |4.1    |DE STL     |05/05/2024 06:00:00|AIS             |11 |58 |7  |7  |54.30633     |13.115233     |0.0010518134409835307|2024-05-04 22:13:26|0.050277777777777775      |0.020920046340003925|0.0             |\n",
      "|2024-05-04 22:31:33|Class A       |211130000|54.30633 |13.115233|Moored                |0.0 |0.0|284.0|284    |9285811|DBBU    |ARKONA|Law enforcement|NULL      |14   |69    |GPS                           |4.1    |DE STL     |05/05/2024 06:00:00|AIS             |11 |58 |7  |7  |54.30633     |13.115217     |0.0010518134409835307|2024-05-04 22:28:31|0.050555555555555555      |0.020805101030443463|0.0             |\n",
      "+-------------------+--------------+---------+---------+---------+----------------------+----+---+-----+-------+-------+--------+------+---------------+----------+-----+------+------------------------------+-------+-----------+-------------------+----------------+---+---+---+---+-------------+--------------+---------------------+-------------------+--------------------------+--------------------+----------------+\n",
      "only showing top 20 rows\n",
      "\n"
     ]
    }
   ],
   "source": [
    "top_vehicle_data = df_cleaned\\\n",
    "    .filter(f.col(\"mmsi\") == top_vessels[\"mmsi\"][0])\\\n",
    "        .orderBy(f.col(\"distance\").desc())\\\n",
    "        .withColumn(\"distance_rounded\", f.round(\"distance\"))\n",
    "\n",
    "top_vehicle_data.show(20, False)"
   ]
  },
  {
   "cell_type": "markdown",
   "metadata": {},
   "source": [
    "## Final answer"
   ]
  },
  {
   "cell_type": "markdown",
   "metadata": {},
   "source": [
    "Since the previous result is likely to have been a data error, it is likely that the boat which actually made the longest journey on May 4th was this one:"
   ]
  },
  {
   "cell_type": "code",
   "execution_count": 97,
   "metadata": {},
   "outputs": [
    {
     "data": {
      "text/plain": [
       "mmsi              219133000\n",
       "total_distance       792.75\n",
       "ship_type             Cargo\n",
       "Name: 1, dtype: object"
      ]
     },
     "execution_count": 97,
     "metadata": {},
     "output_type": "execute_result"
    }
   ],
   "source": [
    "top_vessels.loc[1]"
   ]
  }
 ],
 "metadata": {
  "kernelspec": {
   "display_name": "Python 3",
   "language": "python",
   "name": "python3"
  },
  "language_info": {
   "codemirror_mode": {
    "name": "ipython",
    "version": 3
   },
   "file_extension": ".py",
   "mimetype": "text/x-python",
   "name": "python",
   "nbconvert_exporter": "python",
   "pygments_lexer": "ipython3",
   "version": "3.11.8"
  }
 },
 "nbformat": 4,
 "nbformat_minor": 2
}
