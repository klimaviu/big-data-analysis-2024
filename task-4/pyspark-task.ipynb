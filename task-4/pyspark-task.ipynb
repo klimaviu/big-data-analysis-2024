{
 "cells": [
  {
   "cell_type": "code",
   "execution_count": 2,
   "metadata": {},
   "outputs": [],
   "source": [
    "app_name = \"getLongestDistance\""
   ]
  },
  {
   "cell_type": "code",
   "execution_count": 3,
   "metadata": {},
   "outputs": [],
   "source": [
    "import findspark\n",
    "findspark.init()\n",
    "\n",
    "import pyspark.sql.functions as f\n",
    "from pyspark.sql import SparkSession\n",
    "from pyspark.sql.types import DoubleType\n",
    "from pyspark.sql.window import Window\n",
    "import math\n",
    "import pandas as pd\n",
    "import seaborn as sns\n",
    "import seaborn.objects as so\n",
    "from utils import clean_names, haversine, haversine_udf"
   ]
  },
  {
   "cell_type": "code",
   "execution_count": 4,
   "metadata": {},
   "outputs": [],
   "source": [
    "spark = SparkSession.builder\\\n",
    "      .master(\"local[4]\")\\\n",
    "      .appName(app_name)\\\n",
    "      .config(\"spark.driver.memory\", \"4g\")\\\n",
    "      .getOrCreate() "
   ]
  },
  {
   "cell_type": "markdown",
   "metadata": {},
   "source": [
    "### Load the data into a PySpark DataFrame"
   ]
  },
  {
   "cell_type": "code",
   "execution_count": 5,
   "metadata": {},
   "outputs": [],
   "source": [
    "df = spark.read.option(\"header\", \"true\").csv(\"aisdk-2024-05-04.csv\")\n",
    "\n",
    "#cleaning all column names and dropping duplicates in case there were several entries from different sources\n",
    "df = clean_names(df).dropDuplicates(subset = [\"mmsi\", \"latitude\", \"longitude\", \"timestamp\"])"
   ]
  },
  {
   "cell_type": "code",
   "execution_count": 6,
   "metadata": {},
   "outputs": [],
   "source": [
    "vessel_info = df\\\n",
    "    .filter((f.col(\"ship_type\") != \"Undefined\"))\\\n",
    "    .select(\"mmsi\", \"ship_type\")\\\n",
    "    .dropDuplicates()"
   ]
  },
  {
   "cell_type": "markdown",
   "metadata": {},
   "source": [
    "### Ensure that the data types for latitude, longitude, and timestamp are appropriate for calculations and sorting\n",
    "\n",
    "By checking the dtypes, we can note that initially, all of these fields are in string format."
   ]
  },
  {
   "cell_type": "code",
   "execution_count": 7,
   "metadata": {},
   "outputs": [
    {
     "data": {
      "text/plain": [
       "[('timestamp', 'string'),\n",
       " ('type_of_mobile', 'string'),\n",
       " ('mmsi', 'string'),\n",
       " ('latitude', 'string'),\n",
       " ('longitude', 'string'),\n",
       " ('navigational_status', 'string'),\n",
       " ('rot', 'string'),\n",
       " ('sog', 'string'),\n",
       " ('cog', 'string'),\n",
       " ('heading', 'string'),\n",
       " ('imo', 'string'),\n",
       " ('callsign', 'string'),\n",
       " ('name', 'string'),\n",
       " ('ship_type', 'string'),\n",
       " ('cargo_type', 'string'),\n",
       " ('width', 'string'),\n",
       " ('length', 'string'),\n",
       " ('type_of_position_fixing_device', 'string'),\n",
       " ('draught', 'string'),\n",
       " ('destination', 'string'),\n",
       " ('eta', 'string'),\n",
       " ('data_source_type', 'string'),\n",
       " ('a', 'string'),\n",
       " ('b', 'string'),\n",
       " ('c', 'string'),\n",
       " ('d', 'string')]"
      ]
     },
     "execution_count": 7,
     "metadata": {},
     "output_type": "execute_result"
    }
   ],
   "source": [
    "df.dtypes"
   ]
  },
  {
   "cell_type": "markdown",
   "metadata": {},
   "source": [
    "Therefore, we need to update these fields to the correct formats:"
   ]
  },
  {
   "cell_type": "code",
   "execution_count": 8,
   "metadata": {},
   "outputs": [],
   "source": [
    "df_cleaned = df\\\n",
    "    .withColumn(\"latitude\", f.col(\"latitude\").cast(\"float\"))\\\n",
    "    .withColumn(\"longitude\", f.col(\"longitude\").cast(\"float\"))\\\n",
    "    .withColumn(\"timestamp\", f.to_timestamp(f.col(\"timestamp\"), format=\"dd/MM/yyyy HH:mm:ss\"))"
   ]
  },
  {
   "cell_type": "code",
   "execution_count": 9,
   "metadata": {},
   "outputs": [
    {
     "name": "stdout",
     "output_type": "stream",
     "text": [
      "+---------+---------+---------+-------------------+\n",
      "|mmsi     |latitude |longitude|timestamp          |\n",
      "+---------+---------+---------+-------------------+\n",
      "|230693000|55.631042|15.123802|2024-05-04 00:00:01|\n",
      "|219018172|56.152687|10.253432|2024-05-04 00:00:01|\n",
      "|209715000|57.772827|10.328788|2024-05-04 00:00:03|\n",
      "|219030201|55.607635|12.386828|2024-05-04 00:00:03|\n",
      "|219522000|54.455936|11.633505|2024-05-04 00:00:04|\n",
      "+---------+---------+---------+-------------------+\n",
      "only showing top 5 rows\n",
      "\n"
     ]
    }
   ],
   "source": [
    "df_cleaned.select(\"mmsi\", \"latitude\", \"longitude\", \"timestamp\").show(5, False)"
   ]
  },
  {
   "cell_type": "markdown",
   "metadata": {},
   "source": [
    "## Calculate difference from last position\n",
    "\n",
    "In order to calculate the difference from the last position, we use a window function to get the previous coordinates for that vessel for every entry, and then apply the [Haversine formula](https://www.movable-type.co.uk/scripts/latlong.html) to get the distance."
   ]
  },
  {
   "cell_type": "markdown",
   "metadata": {},
   "source": [
    "To validate if the function works as expected, we can pass a set of coordinates and assert if the result matches what is expected:"
   ]
  },
  {
   "cell_type": "code",
   "execution_count": 10,
   "metadata": {},
   "outputs": [],
   "source": [
    "lat1 = 52.2296756\n",
    "lon1 = 21.0122287\n",
    "lat2 = 52.406374\n",
    "lon2 = 16.9251681\n",
    "\n",
    "assert round(haversine(lon1, lat1, lon2, lat2), 3) == 278.458"
   ]
  },
  {
   "cell_type": "markdown",
   "metadata": {},
   "source": [
    "We then apply a window function to get the previous coordinates for every vessel, and apply the Harvesine function:"
   ]
  },
  {
   "cell_type": "code",
   "execution_count": 11,
   "metadata": {},
   "outputs": [],
   "source": [
    "windowSpec = Window.partitionBy(\"mmsi\").orderBy(\"timestamp\")\n",
    "\n",
    "df_cleaned = df_cleaned\\\n",
    "    .withColumn(\"prev_timestamp\", f.lag(\"timestamp\").over(windowSpec))\\\n",
    "    .withColumn(\"prev_latitude\", f.lag(\"latitude\").over(windowSpec))\\\n",
    "    .withColumn(\"prev_longitude\", f.lag(\"longitude\").over(windowSpec))\\\n",
    "    .filter(f.col(\"prev_latitude\").isNotNull() & f.col(\"prev_longitude\").isNotNull())\\\n",
    "    .withColumn(\"distance\", haversine_udf(\"longitude\", \"latitude\", \"prev_longitude\", \"prev_latitude\"))\\\n",
    "    .withColumn(\"hours_since_last_timestamp\", (f.unix_timestamp(\"timestamp\") - f.unix_timestamp(\"prev_timestamp\").cast(\"long\"))/3600)\\\n",
    "    .withColumn(\"speed_km_h\", f.col(\"distance\")/f.col(\"hours_since_last_timestamp\"))\\\n",
    "    .cache()"
   ]
  },
  {
   "cell_type": "markdown",
   "metadata": {},
   "source": [
    "### Checking for outliers with overly high speed\n",
    "\n",
    "To check for any outliers, we take the maximum speed each vehicle had exhibited.\n",
    "\n",
    "We can note that the current world record for boat speed is [511 km/h](http://www.lesliefield.com/races/world_water_speed_record.htm), so speeds above that could be deemed suspicious. "
   ]
  },
  {
   "cell_type": "code",
   "execution_count": 13,
   "metadata": {},
   "outputs": [],
   "source": [
    "vehicle_speed = df_cleaned.groupBy(\"mmsi\").agg(f.max(\"speed_km_h\").alias(\"speed_km_h\")).select(\"speed_km_h\").toPandas()"
   ]
  },
  {
   "cell_type": "code",
   "execution_count": 14,
   "metadata": {},
   "outputs": [
    {
     "data": {
      "image/png": "[encoded data removed]",
      "text/plain": [
       "<seaborn._core.plot.Plot at 0x1a7febbb350>"
      ]
     },
     "execution_count": 14,
     "metadata": {
      "image/png": {
       "height": 378.25,
       "width": 509.15
      }
     },
     "output_type": "execute_result"
    }
   ],
   "source": [
    "so.Plot(vehicle_speed, \"speed_km_h\")\\\n",
    "    .add(so.Bar(), so.Hist(stat = \"percent\", bins = 10, binrange = (0, 2000)))\\\n",
    "    .label(title = \"Histogram of maximum speed per vehicle\")"
   ]
  },
  {
   "cell_type": "markdown",
   "metadata": {},
   "source": [
    "While even speeds above 511 km could be deeemed as suspicious, there are some speeds which exceed 10 million km per hour. These must be errors, and should be excluded from analysis."
   ]
  },
  {
   "cell_type": "code",
   "execution_count": 15,
   "metadata": {},
   "outputs": [
    {
     "data": {
      "text/html": [
       "<div>\n",
       "<style scoped>\n",
       "    .dataframe tbody tr th:only-of-type {\n",
       "        vertical-align: middle;\n",
       "    }\n",
       "\n",
       "    .dataframe tbody tr th {\n",
       "        vertical-align: top;\n",
       "    }\n",
       "\n",
       "    .dataframe thead th {\n",
       "        text-align: right;\n",
       "    }\n",
       "</style>\n",
       "<table border=\"1\" class=\"dataframe\">\n",
       "  <thead>\n",
       "    <tr style=\"text-align: right;\">\n",
       "      <th></th>\n",
       "      <th>speed_km_h</th>\n",
       "    </tr>\n",
       "  </thead>\n",
       "  <tbody>\n",
       "    <tr>\n",
       "      <th>3701</th>\n",
       "      <td>14652793.34</td>\n",
       "    </tr>\n",
       "    <tr>\n",
       "      <th>5326</th>\n",
       "      <td>14540873.07</td>\n",
       "    </tr>\n",
       "    <tr>\n",
       "      <th>1916</th>\n",
       "      <td>14540286.16</td>\n",
       "    </tr>\n",
       "    <tr>\n",
       "      <th>1629</th>\n",
       "      <td>14446772.18</td>\n",
       "    </tr>\n",
       "    <tr>\n",
       "      <th>3455</th>\n",
       "      <td>14392266.91</td>\n",
       "    </tr>\n",
       "    <tr>\n",
       "      <th>5031</th>\n",
       "      <td>14367957.59</td>\n",
       "    </tr>\n",
       "    <tr>\n",
       "      <th>1283</th>\n",
       "      <td>14283732.48</td>\n",
       "    </tr>\n",
       "    <tr>\n",
       "      <th>1300</th>\n",
       "      <td>14193107.43</td>\n",
       "    </tr>\n",
       "    <tr>\n",
       "      <th>3757</th>\n",
       "      <td>14135305.71</td>\n",
       "    </tr>\n",
       "    <tr>\n",
       "      <th>891</th>\n",
       "      <td>14098264.51</td>\n",
       "    </tr>\n",
       "  </tbody>\n",
       "</table>\n",
       "</div>"
      ],
      "text/plain": [
       "      speed_km_h\n",
       "3701 14652793.34\n",
       "5326 14540873.07\n",
       "1916 14540286.16\n",
       "1629 14446772.18\n",
       "3455 14392266.91\n",
       "5031 14367957.59\n",
       "1283 14283732.48\n",
       "1300 14193107.43\n",
       "3757 14135305.71\n",
       "891  14098264.51"
      ]
     },
     "execution_count": 15,
     "metadata": {},
     "output_type": "execute_result"
    }
   ],
   "source": [
    "pd.options.display.float_format = '{:.2f}'.format\n",
    "\n",
    "vehicle_speed.sort_values(by = \"speed_km_h\", ascending = False)[0:10]"
   ]
  },
  {
   "cell_type": "markdown",
   "metadata": {},
   "source": [
    "Over 20% of vehicles had maximum speeds of 511 km/h or larger. Still, let's select this as our \"sane threshold\", and exclude observations with larger speeds."
   ]
  },
  {
   "cell_type": "code",
   "execution_count": 27,
   "metadata": {},
   "outputs": [
    {
     "data": {
      "text/plain": [
       "0.244448489261012"
      ]
     },
     "execution_count": 27,
     "metadata": {},
     "output_type": "execute_result"
    }
   ],
   "source": [
    "len(vehicle_speed[vehicle_speed[\"speed_km_h\"] >= 511])/len(vehicle_speed)"
   ]
  },
  {
   "cell_type": "markdown",
   "metadata": {},
   "source": [
    "### Total distance travelled per day"
   ]
  },
  {
   "cell_type": "markdown",
   "metadata": {},
   "source": [
    "To get the total distance travelled per day, we group by the MMSI, sum to get the total distance, and then sort the dataframe in a descending order."
   ]
  },
  {
   "cell_type": "code",
   "execution_count": 28,
   "metadata": {},
   "outputs": [],
   "source": [
    "distance_per_day = df_cleaned\\\n",
    "    .filter(f.col(\"speed_km_h\") < 511)\\\n",
    "    .groupBy(\"mmsi\")\\\n",
    "    .agg(\n",
    "        f.sum(\"distance\").alias(\"total_distance\")\n",
    "    )\\\n",
    "    .orderBy(f.col(\"total_distance\").desc())"
   ]
  },
  {
   "cell_type": "markdown",
   "metadata": {},
   "source": [
    "### Vessel with the longest distance"
   ]
  },
  {
   "cell_type": "markdown",
   "metadata": {},
   "source": [
    "Once the dataset has been sorted in a descending order based on the total distance travelled that day, we can find the vessel which has travelled the longest distance."
   ]
  },
  {
   "cell_type": "code",
   "execution_count": 29,
   "metadata": {},
   "outputs": [
    {
     "name": "stdout",
     "output_type": "stream",
     "text": [
      "+---------+------------------+\n",
      "|mmsi     |total_distance    |\n",
      "+---------+------------------+\n",
      "|211130000|4077.4400763628864|\n",
      "+---------+------------------+\n",
      "only showing top 1 row\n",
      "\n"
     ]
    }
   ],
   "source": [
    "distance_per_day.show(1, False)"
   ]
  },
  {
   "cell_type": "markdown",
   "metadata": {},
   "source": [
    "### Comparing the top 1 vessel with others"
   ]
  },
  {
   "cell_type": "code",
   "execution_count": 30,
   "metadata": {},
   "outputs": [],
   "source": [
    "top_vessels = distance_per_day\\\n",
    "    .limit(10)\\\n",
    "    .join(vessel_info, on = [\"mmsi\"], how = \"left\")\\\n",
    "    .toPandas()\\\n",
    "    .sort_values(by = \"total_distance\", ascending = False)\\\n",
    "    .reset_index(drop = True)"
   ]
  },
  {
   "cell_type": "markdown",
   "metadata": {},
   "source": [
    "We can observe that the top 1 vessel was a law enforcement ship."
   ]
  },
  {
   "cell_type": "code",
   "execution_count": 31,
   "metadata": {},
   "outputs": [
    {
     "data": {
      "text/plain": [
       "mmsi                    211130000\n",
       "total_distance            4077.44\n",
       "ship_type         Law enforcement\n",
       "Name: 0, dtype: object"
      ]
     },
     "execution_count": 31,
     "metadata": {},
     "output_type": "execute_result"
    }
   ],
   "source": [
    "top_vessels.loc[0]"
   ]
  },
  {
   "cell_type": "markdown",
   "metadata": {},
   "source": [
    "However, most other vehicles which were in the top 10 by distance travelled were cargo ships:"
   ]
  },
  {
   "cell_type": "code",
   "execution_count": 32,
   "metadata": {},
   "outputs": [
    {
     "data": {
      "image/png": "[encoded data removed]",
      "text/plain": [
       "<seaborn._core.plot.Plot at 0x1a78a476810>"
      ]
     },
     "execution_count": 32,
     "metadata": {
      "image/png": {
       "height": 378.25,
       "width": 509.15
      }
     },
     "output_type": "execute_result"
    }
   ],
   "source": [
    "so.Plot(top_vessels, y = \"ship_type\").add(so.Bar(), so.Count())"
   ]
  },
  {
   "cell_type": "code",
   "execution_count": 33,
   "metadata": {},
   "outputs": [
    {
     "name": "stdout",
     "output_type": "stream",
     "text": [
      "The first vessel travelled an almost 1 times larger distance than the second one.\n"
     ]
    }
   ],
   "source": [
    "first_vs_second_vessel = round(top_vessels[\"total_distance\"][0]/top_vessels[\"total_distance\"][1])\n",
    "\n",
    "print(f\"The first vessel travelled an almost {first_vs_second_vessel} times larger distance than the second one.\")"
   ]
  },
  {
   "cell_type": "markdown",
   "metadata": {},
   "source": [
    "### Sanity check"
   ]
  },
  {
   "cell_type": "markdown",
   "metadata": {},
   "source": [
    "We can note that the top vehicle was moored most of the time, apart from a couple of very short trips and a single 12 hour trip with an average speed of 338.5 km / h. \n",
    "\n",
    "The speed for the latter is still unbelievably high."
   ]
  },
  {
   "cell_type": "code",
   "execution_count": 34,
   "metadata": {},
   "outputs": [
    {
     "name": "stdout",
     "output_type": "stream",
     "text": [
      "+-------------------+----------------------+---------------------+--------------------------+--------------------+\n",
      "|timestamp          |navigational_status   |distance             |hours_since_last_timestamp|speed_km_h          |\n",
      "+-------------------+----------------------+---------------------+--------------------------+--------------------+\n",
      "|2024-05-04 15:15:47|Under way using engine|4077.343296369176    |12.045555555555556        |338.49358608359546  |\n",
      "|2024-05-04 15:19:49|Under way using engine|0.06802193819036792  |0.06722222222222222       |1.011896601179027   |\n",
      "|2024-05-04 15:21:49|Under way using engine|0.003959822085037586 |0.03333333333333333       |0.1187946625511276  |\n",
      "|2024-05-04 20:00:27|Moored                |0.001996272170791178 |0.10055555555555555       |0.019852430427757573|\n",
      "|2024-05-04 16:16:50|Moored                |0.0016966999307853614|0.3188888888888889        |0.005320661803856534|\n",
      "|2024-05-04 20:12:33|Moored                |0.0016966999307853614|0.1763888888888889        |0.009619086221775276|\n",
      "|2024-05-04 21:13:00|Moored                |0.0016966999307853614|0.050555555555555555      |0.033561097532018136|\n",
      "|2024-05-04 21:19:04|Moored                |0.0016966999307853614|0.0825                    |0.020566059767095288|\n",
      "|2024-05-04 22:43:39|Moored                |0.0016966999307853614|0.08944444444444444       |0.01896931599635808 |\n",
      "|2024-05-04 23:28:59|Moored                |0.0016966999307853614|0.5433333333333333        |0.003122760608807414|\n",
      "|2024-05-04 22:52:42|Moored                |0.001051813830895493 |0.04055555555555555       |0.025935135556327225|\n",
      "|2024-05-04 17:26:23|Moored                |0.0010518134409835307|0.11166666666666666       |0.009419224844628633|\n",
      "|2024-05-04 18:54:01|Moored                |0.0010518134409835307|0.050833333333333335      |0.020691411953774375|\n",
      "|2024-05-04 19:54:25|Moored                |0.0010518134409835307|0.45222222222222225       |0.002325877387924269|\n",
      "|2024-05-04 20:39:45|Moored                |0.0010518134409835307|0.050555555555555555      |0.020805101030443463|\n",
      "|2024-05-04 21:52:17|Moored                |0.0010518134409835307|0.035277777777777776      |0.029815184153863864|\n",
      "|2024-05-04 22:10:24|Moored                |0.0010518134409835307|0.13666666666666666       |0.007696195909635591|\n",
      "|2024-05-04 22:13:26|Moored                |0.0010518134409835307|0.050555555555555555      |0.020805101030443463|\n",
      "|2024-05-04 22:16:27|Moored                |0.0010518134409835307|0.050277777777777775      |0.020920046340003925|\n",
      "|2024-05-04 22:31:33|Moored                |0.0010518134409835307|0.050555555555555555      |0.020805101030443463|\n",
      "+-------------------+----------------------+---------------------+--------------------------+--------------------+\n",
      "only showing top 20 rows\n",
      "\n"
     ]
    }
   ],
   "source": [
    "top_vehicle_data = df_cleaned\\\n",
    "    .filter(f.col(\"mmsi\") == top_vessels[\"mmsi\"][0])\\\n",
    "        .orderBy(f.col(\"distance\").desc())\\\n",
    "        .withColumn(\"distance_rounded\", f.round(\"distance\"))\n",
    "\n",
    "top_vehicle_data.select(\"timestamp\", \"navigational_status\", \"distance\", \"hours_since_last_timestamp\", \"speed_km_h\").show(20, False)"
   ]
  }
 ],
 "metadata": {
  "kernelspec": {
   "display_name": "Python 3",
   "language": "python",
   "name": "python3"
  },
  "language_info": {
   "codemirror_mode": {
    "name": "ipython",
    "version": 3
   },
   "file_extension": ".py",
   "mimetype": "text/x-python",
   "name": "python",
   "nbconvert_exporter": "python",
   "pygments_lexer": "ipython3",
   "version": "3.11.8"
  }
 },
 "nbformat": 4,
 "nbformat_minor": 2
}
